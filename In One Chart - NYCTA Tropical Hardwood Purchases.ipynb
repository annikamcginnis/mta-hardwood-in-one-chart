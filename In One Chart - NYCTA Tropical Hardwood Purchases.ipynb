{
 "cells": [
  {
   "cell_type": "code",
   "execution_count": 23,
   "id": "52a6c37b-71e2-405e-993b-e4af2973a89d",
   "metadata": {},
   "outputs": [
    {
     "name": "stdout",
     "output_type": "stream",
     "text": [
      "The rpy2.ipython extension is already loaded. To reload it, use:\n",
      "  %reload_ext rpy2.ipython\n",
      "The autoreload extension is already loaded. To reload it, use:\n",
      "  %reload_ext autoreload\n"
     ]
    }
   ],
   "source": [
    "%load_ext rpy2.ipython\n",
    "%load_ext autoreload\n",
    "%autoreload 2\n",
    "\n",
    "%matplotlib inline  \n",
    "from matplotlib import rcParams\n",
    "rcParams['figure.figsize'] = (16, 100)\n",
    "\n",
    "import warnings\n",
    "from rpy2.rinterface import RRuntimeWarning\n",
    "warnings.filterwarnings(\"ignore\") # Ignore all warnings\n",
    "# warnings.filterwarnings(\"ignore\", category=RRuntimeWarning) # Show some warnings\n",
    "\n",
    "import pandas as pd\n",
    "import numpy as np\n",
    "import matplotlib.pyplot as plt\n",
    "from IPython.display import display, HTML"
   ]
  },
  {
   "cell_type": "code",
   "execution_count": 24,
   "id": "920d1d43-8923-4d5c-aef3-f924a7a48f51",
   "metadata": {},
   "outputs": [
    {
     "data": {
      "application/javascript": [
       "// Disable auto-scrolling\n",
       "IPython.OutputArea.prototype._should_scroll = function(lines) {\n",
       "    return false;\n"
      ],
      "text/plain": [
       "<IPython.core.display.Javascript object>"
      ]
     },
     "metadata": {},
     "output_type": "display_data"
    }
   ],
   "source": [
    "%%javascript\n",
    "// Disable auto-scrolling\n",
    "IPython.OutputArea.prototype._should_scroll = function(lines) {\n",
    "    return false;"
   ]
  },
  {
   "cell_type": "code",
   "execution_count": 3,
   "id": "9f8655dd-3956-446b-891f-74b4e4faf72e",
   "metadata": {},
   "outputs": [
    {
     "data": {
      "text/html": [
       "<div>\n",
       "<style scoped>\n",
       "    .dataframe tbody tr th:only-of-type {\n",
       "        vertical-align: middle;\n",
       "    }\n",
       "\n",
       "    .dataframe tbody tr th {\n",
       "        vertical-align: top;\n",
       "    }\n",
       "\n",
       "    .dataframe thead th {\n",
       "        text-align: right;\n",
       "    }\n",
       "</style>\n",
       "<table border=\"1\" class=\"dataframe\">\n",
       "  <thead>\n",
       "    <tr style=\"text-align: right;\">\n",
       "      <th></th>\n",
       "      <th>Unit</th>\n",
       "      <th>PO/Contract</th>\n",
       "      <th>PO_ID</th>\n",
       "      <th>Item description</th>\n",
       "      <th>Vendor Name</th>\n",
       "      <th>PO Date</th>\n",
       "      <th>Award Process</th>\n",
       "      <th>Item</th>\n",
       "      <th>Total Value</th>\n",
       "    </tr>\n",
       "  </thead>\n",
       "  <tbody>\n",
       "    <tr>\n",
       "      <th>0</th>\n",
       "      <td>NYCTA</td>\n",
       "      <td>Contract</td>\n",
       "      <td>0600000000000000000007289</td>\n",
       "      <td>BLOCK, TIE TROPICAL HARDWOOD, 5\" X 7\" X 34\". S...</td>\n",
       "      <td>WILLIAM G. MOORE &amp; SON, INC. OF DELWARE</td>\n",
       "      <td>2/26/2014</td>\n",
       "      <td>Competitive Bid</td>\n",
       "      <td>66-08-0415</td>\n",
       "      <td>$89,227.20</td>\n",
       "    </tr>\n",
       "    <tr>\n",
       "      <th>1</th>\n",
       "      <td>NYCTA</td>\n",
       "      <td>Contract</td>\n",
       "      <td>0600000000000000000007290</td>\n",
       "      <td>TIE, 5\" X 7\" X 9', TROPICAL HARDWOOD, SHALL CO...</td>\n",
       "      <td>WILLIAM G. MOORE &amp; SON, INC. OF DELWARE</td>\n",
       "      <td>2/26/2014</td>\n",
       "      <td>Competitive Bid</td>\n",
       "      <td>66-65-0320</td>\n",
       "      <td>$418,677.00</td>\n",
       "    </tr>\n",
       "    <tr>\n",
       "      <th>2</th>\n",
       "      <td>NYCTA</td>\n",
       "      <td>Contract</td>\n",
       "      <td>0600000000000000000007301</td>\n",
       "      <td>TIE, 5\"X 8\" X 9'-6\", TROPICAL HARDWOOD, SHALL ...</td>\n",
       "      <td>WILLIAM G. MOORE &amp; SON, INC. OF DELWARE</td>\n",
       "      <td>2/27/2014</td>\n",
       "      <td>Competitive Bid</td>\n",
       "      <td>66-65-0352</td>\n",
       "      <td>$258,835.50</td>\n",
       "    </tr>\n",
       "    <tr>\n",
       "      <th>3</th>\n",
       "      <td>NYCTA</td>\n",
       "      <td>PO</td>\n",
       "      <td>6030121313</td>\n",
       "      <td>BLOCK, TIE TROPICAL HARDWOOD, 5\" X 7\" X 24\". S...</td>\n",
       "      <td>WILLIAM G. MOORE &amp; SON, INC. OF DELWARE</td>\n",
       "      <td>3/25/2014</td>\n",
       "      <td>NaN</td>\n",
       "      <td>66-08-0410</td>\n",
       "      <td>$16,022.16</td>\n",
       "    </tr>\n",
       "    <tr>\n",
       "      <th>4</th>\n",
       "      <td>NYCTA</td>\n",
       "      <td>Contract</td>\n",
       "      <td>0600000000000000000008164</td>\n",
       "      <td>TIE, 6\" X 8\" X 10', TROPICAL HARDWOOD, SHALL C...</td>\n",
       "      <td>WILLIAM G. MOORE &amp; SON, INC. OF DELWARE</td>\n",
       "      <td>6/5/2014</td>\n",
       "      <td>Competitive Bid</td>\n",
       "      <td>66-65-1900</td>\n",
       "      <td>$71,222.80</td>\n",
       "    </tr>\n",
       "  </tbody>\n",
       "</table>\n",
       "</div>"
      ],
      "text/plain": [
       "    Unit PO/Contract                      PO_ID  \\\n",
       "0  NYCTA    Contract  0600000000000000000007289   \n",
       "1  NYCTA    Contract  0600000000000000000007290   \n",
       "2  NYCTA    Contract  0600000000000000000007301   \n",
       "3  NYCTA          PO                 6030121313   \n",
       "4  NYCTA    Contract  0600000000000000000008164   \n",
       "\n",
       "                                    Item description  \\\n",
       "0  BLOCK, TIE TROPICAL HARDWOOD, 5\" X 7\" X 34\". S...   \n",
       "1  TIE, 5\" X 7\" X 9', TROPICAL HARDWOOD, SHALL CO...   \n",
       "2  TIE, 5\"X 8\" X 9'-6\", TROPICAL HARDWOOD, SHALL ...   \n",
       "3  BLOCK, TIE TROPICAL HARDWOOD, 5\" X 7\" X 24\". S...   \n",
       "4  TIE, 6\" X 8\" X 10', TROPICAL HARDWOOD, SHALL C...   \n",
       "\n",
       "                               Vendor Name    PO Date    Award Process  \\\n",
       "0  WILLIAM G. MOORE & SON, INC. OF DELWARE  2/26/2014  Competitive Bid   \n",
       "1  WILLIAM G. MOORE & SON, INC. OF DELWARE  2/26/2014  Competitive Bid   \n",
       "2  WILLIAM G. MOORE & SON, INC. OF DELWARE  2/27/2014  Competitive Bid   \n",
       "3  WILLIAM G. MOORE & SON, INC. OF DELWARE  3/25/2014              NaN   \n",
       "4  WILLIAM G. MOORE & SON, INC. OF DELWARE   6/5/2014  Competitive Bid   \n",
       "\n",
       "         Item  Total Value  \n",
       "0  66-08-0415   $89,227.20  \n",
       "1  66-65-0320  $418,677.00  \n",
       "2  66-65-0352  $258,835.50  \n",
       "3  66-08-0410   $16,022.16  \n",
       "4  66-65-1900   $71,222.80  "
      ]
     },
     "execution_count": 3,
     "metadata": {},
     "output_type": "execute_result"
    }
   ],
   "source": [
    "df = pd.read_csv('NYCT_AWARDS_TROPICAL_HARDWOODS.csv')\n",
    "df.head()"
   ]
  },
  {
   "cell_type": "code",
   "execution_count": 4,
   "id": "788f7933-b767-47c4-b87e-37b84109e80b",
   "metadata": {},
   "outputs": [
    {
     "data": {
      "text/html": [
       "<div>\n",
       "<style scoped>\n",
       "    .dataframe tbody tr th:only-of-type {\n",
       "        vertical-align: middle;\n",
       "    }\n",
       "\n",
       "    .dataframe tbody tr th {\n",
       "        vertical-align: top;\n",
       "    }\n",
       "\n",
       "    .dataframe thead th {\n",
       "        text-align: right;\n",
       "    }\n",
       "</style>\n",
       "<table border=\"1\" class=\"dataframe\">\n",
       "  <thead>\n",
       "    <tr style=\"text-align: right;\">\n",
       "      <th></th>\n",
       "      <th>Unit</th>\n",
       "      <th>PO/Contract</th>\n",
       "      <th>PO_ID</th>\n",
       "      <th>Item description</th>\n",
       "      <th>Vendor Name</th>\n",
       "      <th>PO Date</th>\n",
       "      <th>Award Process</th>\n",
       "      <th>Item</th>\n",
       "      <th>Total Value</th>\n",
       "    </tr>\n",
       "  </thead>\n",
       "  <tbody>\n",
       "    <tr>\n",
       "      <th>0</th>\n",
       "      <td>NYCTA</td>\n",
       "      <td>Contract</td>\n",
       "      <td>0600000000000000000007289</td>\n",
       "      <td>BLOCK, TIE TROPICAL HARDWOOD, 5\" X 7\" X 34\". S...</td>\n",
       "      <td>WILLIAM G. MOORE &amp; SON, INC. OF DELWARE</td>\n",
       "      <td>2/26/2014</td>\n",
       "      <td>Competitive Bid</td>\n",
       "      <td>66-08-0415</td>\n",
       "      <td>89,227.20</td>\n",
       "    </tr>\n",
       "    <tr>\n",
       "      <th>1</th>\n",
       "      <td>NYCTA</td>\n",
       "      <td>Contract</td>\n",
       "      <td>0600000000000000000007290</td>\n",
       "      <td>TIE, 5\" X 7\" X 9', TROPICAL HARDWOOD, SHALL CO...</td>\n",
       "      <td>WILLIAM G. MOORE &amp; SON, INC. OF DELWARE</td>\n",
       "      <td>2/26/2014</td>\n",
       "      <td>Competitive Bid</td>\n",
       "      <td>66-65-0320</td>\n",
       "      <td>418,677.00</td>\n",
       "    </tr>\n",
       "    <tr>\n",
       "      <th>2</th>\n",
       "      <td>NYCTA</td>\n",
       "      <td>Contract</td>\n",
       "      <td>0600000000000000000007301</td>\n",
       "      <td>TIE, 5\"X 8\" X 9'-6\", TROPICAL HARDWOOD, SHALL ...</td>\n",
       "      <td>WILLIAM G. MOORE &amp; SON, INC. OF DELWARE</td>\n",
       "      <td>2/27/2014</td>\n",
       "      <td>Competitive Bid</td>\n",
       "      <td>66-65-0352</td>\n",
       "      <td>258,835.50</td>\n",
       "    </tr>\n",
       "    <tr>\n",
       "      <th>3</th>\n",
       "      <td>NYCTA</td>\n",
       "      <td>PO</td>\n",
       "      <td>6030121313</td>\n",
       "      <td>BLOCK, TIE TROPICAL HARDWOOD, 5\" X 7\" X 24\". S...</td>\n",
       "      <td>WILLIAM G. MOORE &amp; SON, INC. OF DELWARE</td>\n",
       "      <td>3/25/2014</td>\n",
       "      <td>NaN</td>\n",
       "      <td>66-08-0410</td>\n",
       "      <td>16,022.16</td>\n",
       "    </tr>\n",
       "    <tr>\n",
       "      <th>4</th>\n",
       "      <td>NYCTA</td>\n",
       "      <td>Contract</td>\n",
       "      <td>0600000000000000000008164</td>\n",
       "      <td>TIE, 6\" X 8\" X 10', TROPICAL HARDWOOD, SHALL C...</td>\n",
       "      <td>WILLIAM G. MOORE &amp; SON, INC. OF DELWARE</td>\n",
       "      <td>6/5/2014</td>\n",
       "      <td>Competitive Bid</td>\n",
       "      <td>66-65-1900</td>\n",
       "      <td>71,222.80</td>\n",
       "    </tr>\n",
       "  </tbody>\n",
       "</table>\n",
       "</div>"
      ],
      "text/plain": [
       "    Unit PO/Contract                      PO_ID  \\\n",
       "0  NYCTA    Contract  0600000000000000000007289   \n",
       "1  NYCTA    Contract  0600000000000000000007290   \n",
       "2  NYCTA    Contract  0600000000000000000007301   \n",
       "3  NYCTA          PO                 6030121313   \n",
       "4  NYCTA    Contract  0600000000000000000008164   \n",
       "\n",
       "                                    Item description  \\\n",
       "0  BLOCK, TIE TROPICAL HARDWOOD, 5\" X 7\" X 34\". S...   \n",
       "1  TIE, 5\" X 7\" X 9', TROPICAL HARDWOOD, SHALL CO...   \n",
       "2  TIE, 5\"X 8\" X 9'-6\", TROPICAL HARDWOOD, SHALL ...   \n",
       "3  BLOCK, TIE TROPICAL HARDWOOD, 5\" X 7\" X 24\". S...   \n",
       "4  TIE, 6\" X 8\" X 10', TROPICAL HARDWOOD, SHALL C...   \n",
       "\n",
       "                               Vendor Name    PO Date    Award Process  \\\n",
       "0  WILLIAM G. MOORE & SON, INC. OF DELWARE  2/26/2014  Competitive Bid   \n",
       "1  WILLIAM G. MOORE & SON, INC. OF DELWARE  2/26/2014  Competitive Bid   \n",
       "2  WILLIAM G. MOORE & SON, INC. OF DELWARE  2/27/2014  Competitive Bid   \n",
       "3  WILLIAM G. MOORE & SON, INC. OF DELWARE  3/25/2014              NaN   \n",
       "4  WILLIAM G. MOORE & SON, INC. OF DELWARE   6/5/2014  Competitive Bid   \n",
       "\n",
       "         Item Total Value  \n",
       "0  66-08-0415   89,227.20  \n",
       "1  66-65-0320  418,677.00  \n",
       "2  66-65-0352  258,835.50  \n",
       "3  66-08-0410   16,022.16  \n",
       "4  66-65-1900   71,222.80  "
      ]
     },
     "execution_count": 4,
     "metadata": {},
     "output_type": "execute_result"
    }
   ],
   "source": [
    "df['Total Value'] = df['Total Value'].str.replace('$', '')\n",
    "df.head()"
   ]
  },
  {
   "cell_type": "code",
   "execution_count": 6,
   "id": "c2ba62b1-6d86-4338-a1b9-186e6d71ccfd",
   "metadata": {},
   "outputs": [
    {
     "data": {
      "text/html": [
       "<div>\n",
       "<style scoped>\n",
       "    .dataframe tbody tr th:only-of-type {\n",
       "        vertical-align: middle;\n",
       "    }\n",
       "\n",
       "    .dataframe tbody tr th {\n",
       "        vertical-align: top;\n",
       "    }\n",
       "\n",
       "    .dataframe thead th {\n",
       "        text-align: right;\n",
       "    }\n",
       "</style>\n",
       "<table border=\"1\" class=\"dataframe\">\n",
       "  <thead>\n",
       "    <tr style=\"text-align: right;\">\n",
       "      <th></th>\n",
       "      <th>Unit</th>\n",
       "      <th>PO/Contract</th>\n",
       "      <th>PO_ID</th>\n",
       "      <th>Item description</th>\n",
       "      <th>Vendor Name</th>\n",
       "      <th>PO Date</th>\n",
       "      <th>Award Process</th>\n",
       "      <th>Item</th>\n",
       "      <th>Total Value</th>\n",
       "    </tr>\n",
       "  </thead>\n",
       "  <tbody>\n",
       "    <tr>\n",
       "      <th>0</th>\n",
       "      <td>NYCTA</td>\n",
       "      <td>Contract</td>\n",
       "      <td>0600000000000000000007289</td>\n",
       "      <td>BLOCK, TIE TROPICAL HARDWOOD, 5\" X 7\" X 34\". S...</td>\n",
       "      <td>WILLIAM G. MOORE &amp; SON, INC. OF DELWARE</td>\n",
       "      <td>2/26/2014</td>\n",
       "      <td>Competitive Bid</td>\n",
       "      <td>66-08-0415</td>\n",
       "      <td>89227.20</td>\n",
       "    </tr>\n",
       "    <tr>\n",
       "      <th>1</th>\n",
       "      <td>NYCTA</td>\n",
       "      <td>Contract</td>\n",
       "      <td>0600000000000000000007290</td>\n",
       "      <td>TIE, 5\" X 7\" X 9', TROPICAL HARDWOOD, SHALL CO...</td>\n",
       "      <td>WILLIAM G. MOORE &amp; SON, INC. OF DELWARE</td>\n",
       "      <td>2/26/2014</td>\n",
       "      <td>Competitive Bid</td>\n",
       "      <td>66-65-0320</td>\n",
       "      <td>418677.00</td>\n",
       "    </tr>\n",
       "    <tr>\n",
       "      <th>2</th>\n",
       "      <td>NYCTA</td>\n",
       "      <td>Contract</td>\n",
       "      <td>0600000000000000000007301</td>\n",
       "      <td>TIE, 5\"X 8\" X 9'-6\", TROPICAL HARDWOOD, SHALL ...</td>\n",
       "      <td>WILLIAM G. MOORE &amp; SON, INC. OF DELWARE</td>\n",
       "      <td>2/27/2014</td>\n",
       "      <td>Competitive Bid</td>\n",
       "      <td>66-65-0352</td>\n",
       "      <td>258835.50</td>\n",
       "    </tr>\n",
       "    <tr>\n",
       "      <th>3</th>\n",
       "      <td>NYCTA</td>\n",
       "      <td>PO</td>\n",
       "      <td>6030121313</td>\n",
       "      <td>BLOCK, TIE TROPICAL HARDWOOD, 5\" X 7\" X 24\". S...</td>\n",
       "      <td>WILLIAM G. MOORE &amp; SON, INC. OF DELWARE</td>\n",
       "      <td>3/25/2014</td>\n",
       "      <td>NaN</td>\n",
       "      <td>66-08-0410</td>\n",
       "      <td>16022.16</td>\n",
       "    </tr>\n",
       "    <tr>\n",
       "      <th>4</th>\n",
       "      <td>NYCTA</td>\n",
       "      <td>Contract</td>\n",
       "      <td>0600000000000000000008164</td>\n",
       "      <td>TIE, 6\" X 8\" X 10', TROPICAL HARDWOOD, SHALL C...</td>\n",
       "      <td>WILLIAM G. MOORE &amp; SON, INC. OF DELWARE</td>\n",
       "      <td>6/5/2014</td>\n",
       "      <td>Competitive Bid</td>\n",
       "      <td>66-65-1900</td>\n",
       "      <td>71222.80</td>\n",
       "    </tr>\n",
       "  </tbody>\n",
       "</table>\n",
       "</div>"
      ],
      "text/plain": [
       "    Unit PO/Contract                      PO_ID  \\\n",
       "0  NYCTA    Contract  0600000000000000000007289   \n",
       "1  NYCTA    Contract  0600000000000000000007290   \n",
       "2  NYCTA    Contract  0600000000000000000007301   \n",
       "3  NYCTA          PO                 6030121313   \n",
       "4  NYCTA    Contract  0600000000000000000008164   \n",
       "\n",
       "                                    Item description  \\\n",
       "0  BLOCK, TIE TROPICAL HARDWOOD, 5\" X 7\" X 34\". S...   \n",
       "1  TIE, 5\" X 7\" X 9', TROPICAL HARDWOOD, SHALL CO...   \n",
       "2  TIE, 5\"X 8\" X 9'-6\", TROPICAL HARDWOOD, SHALL ...   \n",
       "3  BLOCK, TIE TROPICAL HARDWOOD, 5\" X 7\" X 24\". S...   \n",
       "4  TIE, 6\" X 8\" X 10', TROPICAL HARDWOOD, SHALL C...   \n",
       "\n",
       "                               Vendor Name    PO Date    Award Process  \\\n",
       "0  WILLIAM G. MOORE & SON, INC. OF DELWARE  2/26/2014  Competitive Bid   \n",
       "1  WILLIAM G. MOORE & SON, INC. OF DELWARE  2/26/2014  Competitive Bid   \n",
       "2  WILLIAM G. MOORE & SON, INC. OF DELWARE  2/27/2014  Competitive Bid   \n",
       "3  WILLIAM G. MOORE & SON, INC. OF DELWARE  3/25/2014              NaN   \n",
       "4  WILLIAM G. MOORE & SON, INC. OF DELWARE   6/5/2014  Competitive Bid   \n",
       "\n",
       "         Item Total Value  \n",
       "0  66-08-0415    89227.20  \n",
       "1  66-65-0320   418677.00  \n",
       "2  66-65-0352   258835.50  \n",
       "3  66-08-0410    16022.16  \n",
       "4  66-65-1900    71222.80  "
      ]
     },
     "execution_count": 6,
     "metadata": {},
     "output_type": "execute_result"
    }
   ],
   "source": [
    "df['Total Value'] = df['Total Value'].str.replace(',', '')\n",
    "df.head()"
   ]
  },
  {
   "cell_type": "code",
   "execution_count": 8,
   "id": "b48556f1-330f-4a8c-9d96-4cb202ec9e92",
   "metadata": {},
   "outputs": [
    {
     "data": {
      "text/html": [
       "<div>\n",
       "<style scoped>\n",
       "    .dataframe tbody tr th:only-of-type {\n",
       "        vertical-align: middle;\n",
       "    }\n",
       "\n",
       "    .dataframe tbody tr th {\n",
       "        vertical-align: top;\n",
       "    }\n",
       "\n",
       "    .dataframe thead th {\n",
       "        text-align: right;\n",
       "    }\n",
       "</style>\n",
       "<table border=\"1\" class=\"dataframe\">\n",
       "  <thead>\n",
       "    <tr style=\"text-align: right;\">\n",
       "      <th></th>\n",
       "      <th>Unit</th>\n",
       "      <th>PO/Contract</th>\n",
       "      <th>PO_ID</th>\n",
       "      <th>Item description</th>\n",
       "      <th>Vendor Name</th>\n",
       "      <th>PO Date</th>\n",
       "      <th>Award Process</th>\n",
       "      <th>Item</th>\n",
       "      <th>Total Value</th>\n",
       "    </tr>\n",
       "  </thead>\n",
       "  <tbody>\n",
       "    <tr>\n",
       "      <th>0</th>\n",
       "      <td>NYCTA</td>\n",
       "      <td>Contract</td>\n",
       "      <td>0600000000000000000007289</td>\n",
       "      <td>block, tie tropical hardwood, 5\" x 7\" x 34\". s...</td>\n",
       "      <td>WILLIAM G. MOORE &amp; SON, INC. OF DELWARE</td>\n",
       "      <td>2/26/2014</td>\n",
       "      <td>Competitive Bid</td>\n",
       "      <td>66-08-0415</td>\n",
       "      <td>89227.20</td>\n",
       "    </tr>\n",
       "    <tr>\n",
       "      <th>1</th>\n",
       "      <td>NYCTA</td>\n",
       "      <td>Contract</td>\n",
       "      <td>0600000000000000000007290</td>\n",
       "      <td>tie, 5\" x 7\" x 9', tropical hardwood, shall co...</td>\n",
       "      <td>WILLIAM G. MOORE &amp; SON, INC. OF DELWARE</td>\n",
       "      <td>2/26/2014</td>\n",
       "      <td>Competitive Bid</td>\n",
       "      <td>66-65-0320</td>\n",
       "      <td>418677.00</td>\n",
       "    </tr>\n",
       "    <tr>\n",
       "      <th>2</th>\n",
       "      <td>NYCTA</td>\n",
       "      <td>Contract</td>\n",
       "      <td>0600000000000000000007301</td>\n",
       "      <td>tie, 5\"x 8\" x 9'-6\", tropical hardwood, shall ...</td>\n",
       "      <td>WILLIAM G. MOORE &amp; SON, INC. OF DELWARE</td>\n",
       "      <td>2/27/2014</td>\n",
       "      <td>Competitive Bid</td>\n",
       "      <td>66-65-0352</td>\n",
       "      <td>258835.50</td>\n",
       "    </tr>\n",
       "    <tr>\n",
       "      <th>3</th>\n",
       "      <td>NYCTA</td>\n",
       "      <td>PO</td>\n",
       "      <td>6030121313</td>\n",
       "      <td>block, tie tropical hardwood, 5\" x 7\" x 24\". s...</td>\n",
       "      <td>WILLIAM G. MOORE &amp; SON, INC. OF DELWARE</td>\n",
       "      <td>3/25/2014</td>\n",
       "      <td>NaN</td>\n",
       "      <td>66-08-0410</td>\n",
       "      <td>16022.16</td>\n",
       "    </tr>\n",
       "    <tr>\n",
       "      <th>4</th>\n",
       "      <td>NYCTA</td>\n",
       "      <td>Contract</td>\n",
       "      <td>0600000000000000000008164</td>\n",
       "      <td>tie, 6\" x 8\" x 10', tropical hardwood, shall c...</td>\n",
       "      <td>WILLIAM G. MOORE &amp; SON, INC. OF DELWARE</td>\n",
       "      <td>6/5/2014</td>\n",
       "      <td>Competitive Bid</td>\n",
       "      <td>66-65-1900</td>\n",
       "      <td>71222.80</td>\n",
       "    </tr>\n",
       "  </tbody>\n",
       "</table>\n",
       "</div>"
      ],
      "text/plain": [
       "    Unit PO/Contract                      PO_ID  \\\n",
       "0  NYCTA    Contract  0600000000000000000007289   \n",
       "1  NYCTA    Contract  0600000000000000000007290   \n",
       "2  NYCTA    Contract  0600000000000000000007301   \n",
       "3  NYCTA          PO                 6030121313   \n",
       "4  NYCTA    Contract  0600000000000000000008164   \n",
       "\n",
       "                                    Item description  \\\n",
       "0  block, tie tropical hardwood, 5\" x 7\" x 34\". s...   \n",
       "1  tie, 5\" x 7\" x 9', tropical hardwood, shall co...   \n",
       "2  tie, 5\"x 8\" x 9'-6\", tropical hardwood, shall ...   \n",
       "3  block, tie tropical hardwood, 5\" x 7\" x 24\". s...   \n",
       "4  tie, 6\" x 8\" x 10', tropical hardwood, shall c...   \n",
       "\n",
       "                               Vendor Name    PO Date    Award Process  \\\n",
       "0  WILLIAM G. MOORE & SON, INC. OF DELWARE  2/26/2014  Competitive Bid   \n",
       "1  WILLIAM G. MOORE & SON, INC. OF DELWARE  2/26/2014  Competitive Bid   \n",
       "2  WILLIAM G. MOORE & SON, INC. OF DELWARE  2/27/2014  Competitive Bid   \n",
       "3  WILLIAM G. MOORE & SON, INC. OF DELWARE  3/25/2014              NaN   \n",
       "4  WILLIAM G. MOORE & SON, INC. OF DELWARE   6/5/2014  Competitive Bid   \n",
       "\n",
       "         Item Total Value  \n",
       "0  66-08-0415    89227.20  \n",
       "1  66-65-0320   418677.00  \n",
       "2  66-65-0352   258835.50  \n",
       "3  66-08-0410    16022.16  \n",
       "4  66-65-1900    71222.80  "
      ]
     },
     "execution_count": 8,
     "metadata": {},
     "output_type": "execute_result"
    }
   ],
   "source": [
    "df['Item description'] = df['Item description'].str.lower()\n",
    "df.head()"
   ]
  },
  {
   "cell_type": "code",
   "execution_count": 20,
   "id": "bf8bddd2-1e70-4c39-ae24-ecb3a1ef8b9a",
   "metadata": {},
   "outputs": [],
   "source": [
    "import re\n",
    "\n",
    "df['Use'] = df['Item description'].str.extract(r'(.*tie)')\n",
    "#df.head(20)"
   ]
  },
  {
   "cell_type": "code",
   "execution_count": 14,
   "id": "7881f01f-2f5d-4cb9-9b09-ab196dcf378e",
   "metadata": {},
   "outputs": [
    {
     "data": {
      "text/plain": [
       "Use\n",
       "tie           114\n",
       "block, tie     28\n",
       "Name: count, dtype: int64"
      ]
     },
     "execution_count": 14,
     "metadata": {},
     "output_type": "execute_result"
    }
   ],
   "source": [
    "df['Use'].value_counts()"
   ]
  },
  {
   "cell_type": "code",
   "execution_count": 15,
   "id": "02e1a8b6-9602-4bb7-b12f-615f7f2917f5",
   "metadata": {},
   "outputs": [
    {
     "data": {
      "text/plain": [
       "Vendor Name\n",
       "WILLIAM G. MOORE & SON, INC. OF DELWARE    69\n",
       "BORO SAWMILL & TIMBER CO INC               58\n",
       "J MIKULSKY RAILWAY SUPPLY CO INC           15\n",
       "Name: count, dtype: int64"
      ]
     },
     "execution_count": 15,
     "metadata": {},
     "output_type": "execute_result"
    }
   ],
   "source": [
    "df['Vendor Name'].value_counts()"
   ]
  },
  {
   "cell_type": "code",
   "execution_count": 19,
   "id": "119cbf4c-54c3-4b47-8d19-a320ba55277f",
   "metadata": {},
   "outputs": [],
   "source": [
    "df['Year'] = df['PO Date'].str.extract(r'\\d{1,2}/\\d{1,2}/(\\d{4})')\n",
    "#df.tail(20)"
   ]
  },
  {
   "cell_type": "code",
   "execution_count": 21,
   "id": "2ae93132-515f-4dd2-8d4c-c5c93e9609f5",
   "metadata": {},
   "outputs": [
    {
     "data": {
      "text/html": [
       "<div>\n",
       "<style scoped>\n",
       "    .dataframe tbody tr th:only-of-type {\n",
       "        vertical-align: middle;\n",
       "    }\n",
       "\n",
       "    .dataframe tbody tr th {\n",
       "        vertical-align: top;\n",
       "    }\n",
       "\n",
       "    .dataframe thead th {\n",
       "        text-align: right;\n",
       "    }\n",
       "</style>\n",
       "<table border=\"1\" class=\"dataframe\">\n",
       "  <thead>\n",
       "    <tr style=\"text-align: right;\">\n",
       "      <th></th>\n",
       "      <th>Unit</th>\n",
       "      <th>PO/Contract</th>\n",
       "      <th>PO_ID</th>\n",
       "      <th>Item description</th>\n",
       "      <th>Vendor Name</th>\n",
       "      <th>PO Date</th>\n",
       "      <th>Award Process</th>\n",
       "      <th>Item</th>\n",
       "      <th>Total Value</th>\n",
       "      <th>Use</th>\n",
       "      <th>Year</th>\n",
       "    </tr>\n",
       "  </thead>\n",
       "  <tbody>\n",
       "    <tr>\n",
       "      <th>0</th>\n",
       "      <td>NYCTA</td>\n",
       "      <td>Contract</td>\n",
       "      <td>0600000000000000000007289</td>\n",
       "      <td>block, tie tropical hardwood, 5\" x 7\" x 34\". s...</td>\n",
       "      <td>WILLIAM G. MOORE &amp; SON, INC. OF DELWARE</td>\n",
       "      <td>2/26/2014</td>\n",
       "      <td>Competitive Bid</td>\n",
       "      <td>66-08-0415</td>\n",
       "      <td>89227.20</td>\n",
       "      <td>block, tie</td>\n",
       "      <td>2014</td>\n",
       "    </tr>\n",
       "    <tr>\n",
       "      <th>1</th>\n",
       "      <td>NYCTA</td>\n",
       "      <td>Contract</td>\n",
       "      <td>0600000000000000000007290</td>\n",
       "      <td>tie, 5\" x 7\" x 9', tropical hardwood, shall co...</td>\n",
       "      <td>WILLIAM G. MOORE &amp; SON, INC. OF DELWARE</td>\n",
       "      <td>2/26/2014</td>\n",
       "      <td>Competitive Bid</td>\n",
       "      <td>66-65-0320</td>\n",
       "      <td>418677.00</td>\n",
       "      <td>tie</td>\n",
       "      <td>2014</td>\n",
       "    </tr>\n",
       "    <tr>\n",
       "      <th>2</th>\n",
       "      <td>NYCTA</td>\n",
       "      <td>Contract</td>\n",
       "      <td>0600000000000000000007301</td>\n",
       "      <td>tie, 5\"x 8\" x 9'-6\", tropical hardwood, shall ...</td>\n",
       "      <td>WILLIAM G. MOORE &amp; SON, INC. OF DELWARE</td>\n",
       "      <td>2/27/2014</td>\n",
       "      <td>Competitive Bid</td>\n",
       "      <td>66-65-0352</td>\n",
       "      <td>258835.50</td>\n",
       "      <td>tie</td>\n",
       "      <td>2014</td>\n",
       "    </tr>\n",
       "    <tr>\n",
       "      <th>3</th>\n",
       "      <td>NYCTA</td>\n",
       "      <td>PO</td>\n",
       "      <td>6030121313</td>\n",
       "      <td>block, tie tropical hardwood, 5\" x 7\" x 24\". s...</td>\n",
       "      <td>WILLIAM G. MOORE &amp; SON, INC. OF DELWARE</td>\n",
       "      <td>3/25/2014</td>\n",
       "      <td>NaN</td>\n",
       "      <td>66-08-0410</td>\n",
       "      <td>16022.16</td>\n",
       "      <td>block, tie</td>\n",
       "      <td>2014</td>\n",
       "    </tr>\n",
       "    <tr>\n",
       "      <th>4</th>\n",
       "      <td>NYCTA</td>\n",
       "      <td>Contract</td>\n",
       "      <td>0600000000000000000008164</td>\n",
       "      <td>tie, 6\" x 8\" x 10', tropical hardwood, shall c...</td>\n",
       "      <td>WILLIAM G. MOORE &amp; SON, INC. OF DELWARE</td>\n",
       "      <td>6/5/2014</td>\n",
       "      <td>Competitive Bid</td>\n",
       "      <td>66-65-1900</td>\n",
       "      <td>71222.80</td>\n",
       "      <td>tie</td>\n",
       "      <td>2014</td>\n",
       "    </tr>\n",
       "  </tbody>\n",
       "</table>\n",
       "</div>"
      ],
      "text/plain": [
       "    Unit PO/Contract                      PO_ID  \\\n",
       "0  NYCTA    Contract  0600000000000000000007289   \n",
       "1  NYCTA    Contract  0600000000000000000007290   \n",
       "2  NYCTA    Contract  0600000000000000000007301   \n",
       "3  NYCTA          PO                 6030121313   \n",
       "4  NYCTA    Contract  0600000000000000000008164   \n",
       "\n",
       "                                    Item description  \\\n",
       "0  block, tie tropical hardwood, 5\" x 7\" x 34\". s...   \n",
       "1  tie, 5\" x 7\" x 9', tropical hardwood, shall co...   \n",
       "2  tie, 5\"x 8\" x 9'-6\", tropical hardwood, shall ...   \n",
       "3  block, tie tropical hardwood, 5\" x 7\" x 24\". s...   \n",
       "4  tie, 6\" x 8\" x 10', tropical hardwood, shall c...   \n",
       "\n",
       "                               Vendor Name    PO Date    Award Process  \\\n",
       "0  WILLIAM G. MOORE & SON, INC. OF DELWARE  2/26/2014  Competitive Bid   \n",
       "1  WILLIAM G. MOORE & SON, INC. OF DELWARE  2/26/2014  Competitive Bid   \n",
       "2  WILLIAM G. MOORE & SON, INC. OF DELWARE  2/27/2014  Competitive Bid   \n",
       "3  WILLIAM G. MOORE & SON, INC. OF DELWARE  3/25/2014              NaN   \n",
       "4  WILLIAM G. MOORE & SON, INC. OF DELWARE   6/5/2014  Competitive Bid   \n",
       "\n",
       "         Item Total Value         Use  Year  \n",
       "0  66-08-0415    89227.20  block, tie  2014  \n",
       "1  66-65-0320   418677.00         tie  2014  \n",
       "2  66-65-0352   258835.50         tie  2014  \n",
       "3  66-08-0410    16022.16  block, tie  2014  \n",
       "4  66-65-1900    71222.80         tie  2014  "
      ]
     },
     "execution_count": 21,
     "metadata": {},
     "output_type": "execute_result"
    }
   ],
   "source": [
    "df.head()"
   ]
  },
  {
   "cell_type": "code",
   "execution_count": 131,
   "id": "51b4cc6c-d232-48b9-8f6b-c1fe9d15b268",
   "metadata": {},
   "outputs": [],
   "source": [
    "df['Vendor Name'] = df['Vendor Name'].str.replace('WILLIAM G. MOORE & SON, INC. OF DELWARE', 'William G. Moore & Son, Inc. of Delaware')"
   ]
  },
  {
   "cell_type": "code",
   "execution_count": 132,
   "id": "00e37a27-9438-4ca2-8a65-437b7d437c95",
   "metadata": {},
   "outputs": [],
   "source": [
    "df['Vendor Name'] = df['Vendor Name'].str.replace('BORO SAWMILL & TIMBER CO INC', 'Boro Sawmill & Timber Co.')"
   ]
  },
  {
   "cell_type": "code",
   "execution_count": 133,
   "id": "809e8015-0f0b-4515-a445-7246f4d8bdbf",
   "metadata": {},
   "outputs": [],
   "source": [
    "df['Vendor Name'] = df['Vendor Name'].str.replace('J MIKULSKY RAILWAY SUPPLY CO INC', 'J. Mikulsky Railway Supply Co, Inc.')"
   ]
  },
  {
   "cell_type": "code",
   "execution_count": 167,
   "id": "c7fe31b6-7a28-49e5-89b6-5e70a98c3062",
   "metadata": {},
   "outputs": [
    {
     "data": {
      "text/plain": [
       "Year  Use       \n",
       "2014  tie           25\n",
       "      block, tie     5\n",
       "2015  tie            8\n",
       "      block, tie     3\n",
       "2016  tie           10\n",
       "      block, tie     6\n",
       "2017  tie           19\n",
       "      block, tie     1\n",
       "2018  tie           34\n",
       "      block, tie     2\n",
       "2019  tie            6\n",
       "      block, tie     2\n",
       "2021  block, tie     2\n",
       "2022  tie            3\n",
       "      block, tie     2\n",
       "2023  tie            6\n",
       "      block, tie     5\n",
       "2024  tie            3\n",
       "Name: count, dtype: int64"
      ]
     },
     "execution_count": 167,
     "metadata": {},
     "output_type": "execute_result"
    }
   ],
   "source": [
    "df.groupby('Year')['Use'].value_counts()"
   ]
  },
  {
   "cell_type": "code",
   "execution_count": 160,
   "id": "c036fd02-382b-4f8f-a97a-d0ffcc945db4",
   "metadata": {},
   "outputs": [],
   "source": [
    "df['Total Value'] = df['Total Value'].astype(float)"
   ]
  },
  {
   "cell_type": "code",
   "execution_count": 161,
   "id": "c7c99ed6-1d0f-4eea-a17e-8d97140ba16e",
   "metadata": {},
   "outputs": [
    {
     "data": {
      "text/plain": [
       "Use\n",
       "block, tie     4667073.60\n",
       "tie           10043181.22\n",
       "Name: Total Value, dtype: float64"
      ]
     },
     "execution_count": 161,
     "metadata": {},
     "output_type": "execute_result"
    }
   ],
   "source": [
    "df.groupby('Use')['Total Value'].sum()"
   ]
  },
  {
   "cell_type": "code",
   "execution_count": 162,
   "id": "4983d3cd-8169-4c8d-8610-e8d4c7bdd1b1",
   "metadata": {},
   "outputs": [
    {
     "data": {
      "text/plain": [
       "Use\n",
       "block, tie    166681.200000\n",
       "tie            88098.080877\n",
       "Name: Total Value, dtype: float64"
      ]
     },
     "execution_count": 162,
     "metadata": {},
     "output_type": "execute_result"
    }
   ],
   "source": [
    "df.groupby('Use')['Total Value'].mean()"
   ]
  },
  {
   "cell_type": "code",
   "execution_count": 168,
   "id": "4c6fe822-41c9-4ad6-ae59-43763d79ac7b",
   "metadata": {},
   "outputs": [
    {
     "data": {
      "text/plain": [
       "Use\n",
       "block, tie    97926.0\n",
       "tie           56220.0\n",
       "Name: Total Value, dtype: float64"
      ]
     },
     "execution_count": 168,
     "metadata": {},
     "output_type": "execute_result"
    }
   ],
   "source": [
    "df.groupby('Use')['Total Value'].median()"
   ]
  },
  {
   "cell_type": "code",
   "execution_count": 134,
   "id": "ea02749d-46b6-4e21-918e-99e677983715",
   "metadata": {},
   "outputs": [],
   "source": [
    "df.to_csv('NYCTA_tropical_hardwoods_cleaned.csv', index=False)"
   ]
  },
  {
   "cell_type": "code",
   "execution_count": 135,
   "id": "6efd7ff1-c75c-4acd-89f6-3795aad43690",
   "metadata": {},
   "outputs": [],
   "source": [
    "%%R\n",
    "\n",
    "#install.packages('tidyverse')\n",
    "require('tidyverse')\n"
   ]
  },
  {
   "cell_type": "code",
   "execution_count": 136,
   "id": "3253b36d-e956-422f-9742-f120cc027740",
   "metadata": {},
   "outputs": [
    {
     "name": "stdout",
     "output_type": "stream",
     "text": [
      "Rows: 142 Columns: 11\n",
      "── Column specification ────────────────────────────────────────────────────────\n",
      "Delimiter: \",\"\n",
      "chr (9): Unit, PO/Contract, PO_ID, Item description, Vendor Name, PO Date, A...\n",
      "dbl (2): Total Value, Year\n",
      "\n",
      "ℹ Use `spec()` to retrieve the full column specification for this data.\n",
      "ℹ Specify the column types or set `show_col_types = FALSE` to quiet this message.\n",
      "# A tibble: 142 × 11\n",
      "   Unit  `PO/Contract` PO_ID          `Item description` `Vendor Name` `PO Date`\n",
      "   <chr> <chr>         <chr>          <chr>              <chr>         <chr>    \n",
      " 1 NYCTA Contract      0600000000000… \"block, tie tropi… William G. M… 2/26/2014\n",
      " 2 NYCTA Contract      0600000000000… \"tie, 5\\\" x 7\\\" x… William G. M… 2/26/2014\n",
      " 3 NYCTA Contract      0600000000000… \"tie, 5\\\"x 8\\\" x … William G. M… 2/27/2014\n",
      " 4 NYCTA PO            6030121313     \"block, tie tropi… William G. M… 3/25/2014\n",
      " 5 NYCTA Contract      0600000000000… \"tie, 6\\\" x 8\\\" x… William G. M… 6/5/2014 \n",
      " 6 NYCTA Contract      0600000000000… \"tie, tropical ha… William G. M… 6/5/2014 \n",
      " 7 NYCTA Contract      0600000000000… \"block, tie tropi… William G. M… 6/5/2014 \n",
      " 8 NYCTA Contract      0600000000000… \"tie, 6\\\" x 8\\\" x… William G. M… 7/10/2014\n",
      " 9 NYCTA Contract      0600000000000… \"tie, 6\\\" x 8\\\" x… William G. M… 7/10/2014\n",
      "10 NYCTA Contract      0600000000000… \"tie, 6\\\" x 8\\\" x… William G. M… 7/10/2014\n",
      "# ℹ 132 more rows\n",
      "# ℹ 5 more variables: `Award Process` <chr>, Item <chr>, `Total Value` <dbl>,\n",
      "#   Use <chr>, Year <dbl>\n",
      "# ℹ Use `print(n = ...)` to see more rows\n"
     ]
    }
   ],
   "source": [
    "%%R\n",
    "\n",
    "# Read data\n",
    "df <- read_csv('NYCTA_tropical_hardwoods_cleaned.csv')\n",
    "df"
   ]
  },
  {
   "cell_type": "code",
   "execution_count": 137,
   "id": "52356c1d-821a-41b0-a151-0b607843903e",
   "metadata": {},
   "outputs": [
    {
     "name": "stdout",
     "output_type": "stream",
     "text": [
      "`stat_bin()` using `bins = 30`. Pick better value with `binwidth`.\n"
     ]
    },
    {
     "data": {
      "image/png": "[encoded data removed]",
      "text/plain": [
       "<IPython.core.display.Image object>"
      ]
     },
     "metadata": {},
     "output_type": "display_data"
    }
   ],
   "source": [
    "%%R\n",
    "\n",
    "ggplot(df) +\n",
    "    aes(x=`Year`) +\n",
    "    geom_histogram() "
   ]
  },
  {
   "cell_type": "code",
   "execution_count": 138,
   "id": "6f34c7fc-cf4c-4764-917e-1460f24a5e9b",
   "metadata": {},
   "outputs": [
    {
     "data": {
      "image/png": "[encoded data removed]",
      "text/plain": [
       "<IPython.core.display.Image object>"
      ]
     },
     "metadata": {},
     "output_type": "display_data"
    }
   ],
   "source": [
    "%%R\n",
    "\n",
    "ggplot(df) +\n",
    "    aes(x=Year, y=`Total Value`) +\n",
    "    geom_point()"
   ]
  },
  {
   "cell_type": "code",
   "execution_count": 139,
   "id": "d89e6371-506e-4919-a73b-505a75406f4d",
   "metadata": {},
   "outputs": [
    {
     "data": {
      "image/png": "[encoded data removed]",
      "text/plain": [
       "<IPython.core.display.Image object>"
      ]
     },
     "metadata": {},
     "output_type": "display_data"
    }
   ],
   "source": [
    "%%R\n",
    "\n",
    "ggplot(df) +\n",
    "    aes(x=Year, y=`Total Value`) +\n",
    "    geom_point() +\n",
    "    facet_wrap(vars(`Vendor Name`))"
   ]
  },
  {
   "cell_type": "code",
   "execution_count": 140,
   "id": "06593a17-91a8-43ca-a11f-5793b6de837d",
   "metadata": {},
   "outputs": [
    {
     "data": {
      "image/png": "[encoded data removed]",
      "text/plain": [
       "<IPython.core.display.Image object>"
      ]
     },
     "metadata": {},
     "output_type": "display_data"
    }
   ],
   "source": [
    "%%R\n",
    "\n",
    "ggplot(df) +\n",
    "    aes(x=Year, y=`Total Value`) +\n",
    "    geom_point() +\n",
    "    facet_wrap(vars(`Use`))"
   ]
  },
  {
   "cell_type": "code",
   "execution_count": 141,
   "id": "6773e96a-3c5a-47dd-8b07-72dd7f7b913d",
   "metadata": {},
   "outputs": [
    {
     "data": {
      "image/png": "[encoded data removed]",
      "text/plain": [
       "<IPython.core.display.Image object>"
      ]
     },
     "metadata": {},
     "output_type": "display_data"
    }
   ],
   "source": [
    "%%R -w 1000 -h 500\n",
    "\n",
    "ggplot(df) +\n",
    "    aes(x=Year, y=`Vendor Name`, size=`Total Value`) +\n",
    "    geom_jitter(height=0.15, alpha=0.5) +\n",
    "    scale_size(range = c(1, 10))"
   ]
  },
  {
   "cell_type": "code",
   "execution_count": 142,
   "id": "4a900b0d-4761-49d6-8e2f-e5aad5b7faf7",
   "metadata": {},
   "outputs": [
    {
     "name": "stdout",
     "output_type": "stream",
     "text": [
      "# A tibble: 10 × 6\n",
      "    Year count    mean  median      sum standard_deviation\n",
      "   <dbl> <int>   <dbl>   <dbl>    <dbl>              <dbl>\n",
      " 1  2014    30 116088.  86011. 3482629.            124820.\n",
      " 2  2015    11  77792.  70923   855715.             65554.\n",
      " 3  2016    16  94668.  76606. 1514690.             85284.\n",
      " 4  2017    20  54226.  12561. 1084515.            117304.\n",
      " 5  2018    36 115786.  66745  4168304.            116167.\n",
      " 6  2019     8  79069.  63670.  632553.             60939.\n",
      " 7  2021     2 202355. 202355.  404710.            238695.\n",
      " 8  2022     5 111663. 108936   558317.             38418.\n",
      " 9  2023    11 170560. 134895  1876165.            180967.\n",
      "10  2024     3  44219.  28278.  132657.             29983.\n"
     ]
    }
   ],
   "source": [
    "%%R\n",
    "\n",
    "df %>% \n",
    "    group_by(`Year`) %>%\n",
    "    summarize(\n",
    "        count = n(),\n",
    "        mean=mean(`Total Value`), \n",
    "        median=median(`Total Value`),\n",
    "        sum=sum(`Total Value`),\n",
    "        standard_deviation=sd(`Total Value`))"
   ]
  },
  {
   "cell_type": "code",
   "execution_count": 143,
   "id": "b15df840-5b9d-41b0-9350-6d1cb8454432",
   "metadata": {},
   "outputs": [
    {
     "name": "stdout",
     "output_type": "stream",
     "text": [
      "\n",
      "The downloaded binary packages are in\n",
      "\t/var/folders/mb/f5zh4qyd6sbf171lrlnmff040000gn/T//RtmpCwnkCX/downloaded_packages\n"
     ]
    },
    {
     "data": {
      "text/plain": [
       "trying URL 'https://cran.wustl.edu/bin/macosx/big-sur-arm64/contrib/4.4/scales_1.3.0.tgz'\n",
       "Content type 'application/x-gzip' length 710409 bytes (693 KB)\n",
       "==================================================\n",
       "downloaded 693 KB\n",
       "\n"
      ]
     },
     "metadata": {},
     "output_type": "display_data"
    }
   ],
   "source": [
    "%%R\n",
    "\n",
    "install.packages(\"scales\")\n",
    "library(scales)"
   ]
  },
  {
   "cell_type": "code",
   "execution_count": 303,
   "id": "6e41c01d-6a07-4549-af0f-0448940d1a40",
   "metadata": {},
   "outputs": [],
   "source": [
    "%%R -w 750 -h 600\n",
    "\n",
    "df <- df %>%\n",
    "  complete(Year = full_seq(2020:2022, 1), `Vendor Name`, fill = list(`Total Value` = 0))\n",
    "\n",
    "ggplot(df, aes(x = factor(Year), y = `Total Value`/ 1e6, fill = `Vendor Name`)) +\n",
    "    geom_bar(stat = \"identity\") +\n",
    "    annotate(\"text\", x = 7.5, y = 0.8, label = \"Covid-19\", size = 5, color = \"black\") +\n",
    "    annotate(\"segment\", \n",
    "           x = 7.2, y = 0.65, xend = 7, yend = 0.3,  \n",
    "           arrow = arrow(type = \"closed\", length = unit(0.1, \"inches\")),  \n",
    "           color = \"black\", size = 0.2) +  \n",
    "    annotate(\"text\", x = 9.6, y = 2.8, label = \"TREES Act passes state legislature\\n but is vetoed twice by Gov. Hochul\", size = 5, color = \"black\") +\n",
    "    annotate(\"segment\", \n",
    "           x = 10.2, y = 2.5, xend = 10, yend = 2.1,  \n",
    "           arrow = arrow(type = \"closed\", length = unit(0.1, \"inches\")),  \n",
    "           color = \"black\", size = 0.2) +  \n",
    "    annotate(\"segment\", \n",
    "           x = 10.8, y = 2.5, xend = 11, yend = 1,  \n",
    "           arrow = arrow(type = \"closed\", length = unit(0.1, \"inches\")),  \n",
    "           color = \"black\", size = 0.2) + \n",
    "    scale_fill_manual(values = c(\"William G. Moore & Son, Inc. of Delaware\" = \"#77CFA0\", \"Boro Sawmill & Timber Co.\" = \"#04A771\", \"J. Mikulsky Railway Supply Co, Inc.\" = \"#BED99F\")) +\n",
    "    labs(\n",
    "        title = \"In 1993, New York banned purchases of most wood from tropical forests. \\nTwenty years later, the MTA is still buying it for NYC Subway tracks.\",\n",
    "        subtitle = \"New York City Transit Authority purchases of tropical forest hardwood for NYC Subway ties and blocks\",\n",
    "        x = NULL,\n",
    "        y = \"Total Purchase Value (Million USD)\",\n",
    "        caption = \"*The Tropical Rainforest Economic & Environmental Sustainability (TREES) Act would have given the MTA an exemption until 2030 to transition from the use of tropical hardwood. \\n Chart by Annika McGinnis. Source: NYC Metropolitan Transit Authority\",\n",
    "        fill = \"Vendor\") +\n",
    "    scale_y_continuous(labels = scales::comma) +\n",
    "    theme_minimal() +\n",
    "    theme(\n",
    "        plot.title = element_text(size = 20, face = \"bold\"),\n",
    "        plot.subtitle = element_text(size = 14, margin = margin(t = 5)),\n",
    "        plot.title.position = \"panel\",\n",
    "        plot.caption = element_text(margin = margin(t = 20)),\n",
    "        plot.margin = margin(t = 20, b = 20, r = 10, l = 10),\n",
    "\n",
    "        legend.position = \"top\",\n",
    "        legend.direction = \"horizontal\",\n",
    "        legend.text = element_text(size = 10), \n",
    "        legend.title = element_text(size = 11, face = \"bold\"),\n",
    "        legend.spacing = unit(1, \"cm\"),\n",
    "        legend.justification = \"left\", \n",
    "        legend.box.margin = margin(t = 5),\n",
    "\n",
    "        axis.title.y = element_text(size = 14, margin = margin(r = 20))\n",
    ")    \n",
    "\n",
    "ggsave(\"timber_mta.png\", width = 7.5, height = 6, units = \"in\", dpi = 300, scale = 1.5)"
   ]
  },
  {
   "cell_type": "code",
   "execution_count": 169,
   "id": "8b1df335-f625-4121-b1d7-16e3f7e2ddfc",
   "metadata": {},
   "outputs": [],
   "source": [
    "# %%R -w 1000 -h 600\n",
    "\n",
    "# ggplot(df, aes(x = Year, y = `Total Value`, fill = `Vendor Name`)) +\n",
    "#   geom_area(position = \"stack\") +\n",
    "#   labs(title = \"MTA's Purchases of Tropical Forest Hardwood for the NYC Subway\",\n",
    "#        x = \"Year\",\n",
    "#        y = \"Total Value of Purchases\",\n",
    "#        fill = \"Company\") +\n",
    "#   theme_minimal()"
   ]
  },
  {
   "cell_type": "code",
   "execution_count": 170,
   "id": "e2e2be93-166e-43fb-8496-8805586bdfa1",
   "metadata": {},
   "outputs": [],
   "source": [
    "# %%R -w 1000 -h 600\n",
    "\n",
    "# ggplot(df, aes(x = Year, y = `Total Value`, fill = `Vendor Name`)) +\n",
    "#   geom_bar(stat=\"identity\", position = position_dodge(width = 0.8)) +  \n",
    "#   labs(title = \"\", \n",
    "#        x = \"Year\", \n",
    "#        y = \"Total Value\", \n",
    "#        fill = \"Vendor\") +\n",
    "#   theme_minimal()"
   ]
  },
  {
   "cell_type": "code",
   "execution_count": 71,
   "id": "25ec0966-527c-4d43-903c-45f6b920fcbc",
   "metadata": {},
   "outputs": [
    {
     "name": "stdout",
     "output_type": "stream",
     "text": [
      "--- Please select a CRAN mirror for use in this session ---\n",
      "Secure CRAN mirrors \n",
      "\n",
      " 1: 0-Cloud [https]\n",
      " 2: Australia (Canberra) [https]\n",
      " 3: Australia (Melbourne 1) [https]\n",
      " 4: Australia (Melbourne 2) [https]\n",
      " 5: Austria (Wien 1) [https]\n",
      " 6: Belgium (Brussels) [https]\n",
      " 7: Brazil (PR) [https]\n",
      " 8: Brazil (SP 1) [https]\n",
      " 9: Brazil (SP 2) [https]\n",
      "10: Bulgaria [https]\n",
      "11: Canada (MB) [https]\n",
      "12: Canada (ON 1) [https]\n",
      "13: Canada (ON 2) [https]\n",
      "14: Chile (Santiago) [https]\n",
      "15: China (Beijing 2) [https]\n",
      "16: China (Beijing 3) [https]\n",
      "17: China (Hefei) [https]\n",
      "18: China (Hong Kong) [https]\n",
      "19: China (Jinan) [https]\n",
      "20: China (Lanzhou) [https]\n",
      "21: China (Nanjing) [https]\n",
      "22: China (Shanghai 2) [https]\n",
      "23: China (Shenzhen) [https]\n",
      "24: China (Wuhan) [https]\n",
      "25: Colombia (Cali) [https]\n",
      "26: Costa Rica [https]\n",
      "27: Cyprus [https]\n",
      "28: Czech Republic [https]\n",
      "29: Denmark [https]\n",
      "30: East Asia [https]\n",
      "31: Ecuador (Cuenca) [https]\n",
      "32: France (Lyon 1) [https]\n",
      "33: France (Lyon 2) [https]\n",
      "34: France (Marseille) [https]\n",
      "35: France (Paris 1) [https]\n",
      "36: Germany (Erlangen) [https]\n",
      "37: Germany (Göttingen) [https]\n",
      "38: Germany (Leipzig) [https]\n",
      "39: Germany (Münster) [https]\n",
      "40: Greece [https]\n",
      "41: Iceland [https]\n",
      "42: India (Bengaluru) [https]\n",
      "43: India (Bhubaneswar) [https]\n",
      "44: Indonesia (Banda Aceh) [https]\n",
      "45: Iran (Mashhad) [https]\n",
      "46: Italy (Milano) [https]\n",
      "47: Italy (Padua) [https]\n",
      "48: Japan (Yonezawa) [https]\n",
      "49: Korea (Gyeongsan-si) [https]\n",
      "50: Mexico (Mexico City) [https]\n",
      "51: Mexico (Texcoco) [https]\n",
      "52: Morocco [https]\n",
      "53: Netherlands (Dronten) [https]\n",
      "54: New Zealand [https]\n",
      "55: South Africa (Johannesburg) [https]\n",
      "56: Spain (A Coruña) [https]\n",
      "57: Spain (Madrid) [https]\n",
      "58: Sweden (Umeå) [https]\n",
      "59: Switzerland (Zurich 1) [https]\n",
      "60: Taiwan (Taipei) [https]\n",
      "61: Turkey (Denizli) [https]\n",
      "62: UK (Bristol) [https]\n",
      "63: UK (London 1) [https]\n",
      "64: USA (IA) [https]\n",
      "65: USA (MI) [https]\n",
      "66: USA (MO) [https]\n",
      "67: USA (OH) [https]\n",
      "68: USA (OR) [https]\n",
      "69: USA (PA 1) [https]\n",
      "70: USA (TN) [https]\n",
      "71: USA (UT) [https]\n",
      "72: United Arab Emirates [https]\n",
      "73: Uruguay [https]\n",
      "74: (other mirrors)\n",
      "\n"
     ]
    },
    {
     "name": "stdin",
     "output_type": "stream",
     "text": [
      "Selection:  66\n"
     ]
    },
    {
     "name": "stdout",
     "output_type": "stream",
     "text": [
      "\n",
      "The downloaded binary packages are in\n",
      "\t/var/folders/mb/f5zh4qyd6sbf171lrlnmff040000gn/T//RtmpCwnkCX/downloaded_packages\n"
     ]
    },
    {
     "data": {
      "text/plain": [
       "trying URL 'https://cran.wustl.edu/bin/macosx/big-sur-arm64/contrib/4.4/ggstream_0.1.0.tgz'\n",
       "Content type 'application/x-gzip' length 50786 bytes (49 KB)\n",
       "==================================================\n",
       "downloaded 49 KB\n",
       "\n",
       "In addition: Warning message:\n",
       "In doTryCatch(return(expr), name, parentenv, handler) :\n",
       "  unable to load shared object '/Library/Frameworks/R.framework/Resources/modules//R_X11.so':\n",
       "  dlopen(/Library/Frameworks/R.framework/Resources/modules//R_X11.so, 0x0006): Library not loaded: /opt/X11/lib/libSM.6.dylib\n",
       "  Referenced from: <34C5A480-1AC4-30DF-83C9-30A913FC042E> /Library/Frameworks/R.framework/Versions/4.4-arm64/Resources/modules/R_X11.so\n",
       "  Reason: tried: '/opt/X11/lib/libSM.6.dylib' (no such file), '/System/Volumes/Preboot/Cryptexes/OS/opt/X11/lib/libSM.6.dylib' (no such file), '/opt/X11/lib/libSM.6.dylib' (no such file), '/usr/local/lib/libSM.6.dylib' (no such file), '/usr/lib/libSM.6.dylib' (no such file, not in dyld cache)\n"
      ]
     },
     "metadata": {},
     "output_type": "display_data"
    }
   ],
   "source": [
    "%%R\n",
    "\n",
    "install.packages(\"ggstream\")\n",
    "library(ggstream)"
   ]
  },
  {
   "cell_type": "code",
   "execution_count": 304,
   "id": "3a04c96b-ab99-4f8f-851b-47bc4edb444b",
   "metadata": {},
   "outputs": [],
   "source": [
    "# %%R\n",
    "\n",
    "# ggplot(df, aes(x = Year, y = `Total Value`, fill = `Vendor Name`)) +\n",
    "#     geom_stream() +\n",
    "#     labs(title = \"Stacked Area Chart\", x = \"Year\", y = \"Total Value\") +\n",
    "#     theme_minimal()"
   ]
  },
  {
   "cell_type": "code",
   "execution_count": null,
   "id": "021aac03-f8ea-4f12-ada6-f7b6f386c5d6",
   "metadata": {},
   "outputs": [],
   "source": []
  }
 ],
 "metadata": {
  "kernelspec": {
   "display_name": "Python 3 (ipykernel)",
   "language": "python",
   "name": "python3"
  },
  "language_info": {
   "codemirror_mode": {
    "name": "ipython",
    "version": 3
   },
   "file_extension": ".py",
   "mimetype": "text/x-python",
   "name": "python",
   "nbconvert_exporter": "python",
   "pygments_lexer": "ipython3",
   "version": "3.12.7"
  }
 },
 "nbformat": 4,
 "nbformat_minor": 5
}
